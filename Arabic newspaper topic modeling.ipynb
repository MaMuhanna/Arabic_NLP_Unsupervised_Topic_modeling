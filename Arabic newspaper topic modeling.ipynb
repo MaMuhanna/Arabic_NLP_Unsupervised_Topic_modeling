{
 "cells": [
  {
   "cell_type": "markdown",
   "id": "c7f8af78",
   "metadata": {},
   "source": [
    "#  Arabic newspaper topic modeling\n",
    "## by:\n",
    "<p><strong>Sohaib Albakri</strong></p>\n",
    "         <b>Mashari Almuhanna</b>\n"
   ]
  },
  {
   "cell_type": "markdown",
   "id": "58181773",
   "metadata": {},
   "source": [
    "## Problem \n",
    "> Our Problem is about arabic NLP and our task will be To prepare a dataset & classify each\n",
    "document into a category.<br>\n",
    "1.\n",
    "Annotate the given dataset<br>\n",
    "2.\n",
    "Train your model<br>\n",
    "3.\n",
    "Predict the categories in test set\n",
    "(in a new column)\n"
   ]
  },
  {
   "cell_type": "markdown",
   "id": "242b1a84",
   "metadata": {},
   "source": [
    "## Solution\n",
    "\n",
    ">In this project, we will develop an Arabic topic modeling to predict the correct topic of newspaper articles that can correctly classify the topic."
   ]
  },
  {
   "cell_type": "markdown",
   "id": "b1ecc9d6",
   "metadata": {},
   "source": [
    "## Dataset \n",
    "> The dataset we will use contains Arabic newspaper articles. The following table explains the dataset in detail:\n",
    "dataset in detail:"
   ]
  },
  {
   "cell_type": "markdown",
   "id": "b713fe1d",
   "metadata": {},
   "source": [
    "- ID | contains the ID of article\n",
    "- Subject | contains breif describtion about the article. <br>\n",
    "\n",
    "- Content | contains the text in the article.\n",
    "\n"
   ]
  },
  {
   "cell_type": "markdown",
   "id": "477afcd5",
   "metadata": {},
   "source": [
    "## Data Gathring"
   ]
  },
  {
   "cell_type": "code",
   "execution_count": 3,
   "id": "a566da23",
   "metadata": {},
   "outputs": [],
   "source": [
    "import pandas as pd\n",
    "import re\n",
    "import string\n",
    "from pyarabic.araby import strip_harakat\n",
    "import pickle\n",
    "from sklearn.feature_extraction.text import TfidfVectorizer\n",
    "from sklearn.cluster import KMeans\n",
    "from sklearn.metrics import adjusted_rand_score\n",
    "from sklearn.feature_extraction.text import CountVectorizer \n",
    "import nltk \n",
    "from sklearn.decomposition import TruncatedSVD\n",
    "from sklearn.decomposition import NMF\n",
    "from sklearn.metrics.pairwise import cosine_similarity"
   ]
  },
  {
   "cell_type": "code",
   "execution_count": 4,
   "id": "598d3282",
   "metadata": {},
   "outputs": [],
   "source": [
    "df_train = pd.read_csv(\"101121_news_source_HSEP_train.csv\" )\n",
    "df_test = pd.read_csv(\"101121_news_source_HSEP_test.csv\" )\n",
    "df = pd.concat([df_train, df_test], axis=0)"
   ]
  },
  {
   "cell_type": "code",
   "execution_count": 5,
   "id": "fc7d7ce3",
   "metadata": {},
   "outputs": [
    {
     "data": {
      "text/plain": [
       "(12225, 3)"
      ]
     },
     "execution_count": 5,
     "metadata": {},
     "output_type": "execute_result"
    }
   ],
   "source": [
    "df.shape"
   ]
  },
  {
   "cell_type": "code",
   "execution_count": 6,
   "id": "e6ad7562",
   "metadata": {},
   "outputs": [
    {
     "data": {
      "text/html": [
       "<div>\n",
       "<style scoped>\n",
       "    .dataframe tbody tr th:only-of-type {\n",
       "        vertical-align: middle;\n",
       "    }\n",
       "\n",
       "    .dataframe tbody tr th {\n",
       "        vertical-align: top;\n",
       "    }\n",
       "\n",
       "    .dataframe thead th {\n",
       "        text-align: right;\n",
       "    }\n",
       "</style>\n",
       "<table border=\"1\" class=\"dataframe\">\n",
       "  <thead>\n",
       "    <tr style=\"text-align: right;\">\n",
       "      <th></th>\n",
       "      <th>ID</th>\n",
       "      <th>Subject</th>\n",
       "      <th>Content</th>\n",
       "    </tr>\n",
       "  </thead>\n",
       "  <tbody>\n",
       "    <tr>\n",
       "      <th>0</th>\n",
       "      <td>0</td>\n",
       "      <td>سواريز يحسم الجدل الذي تسبب به احتفاله بالهدف</td>\n",
       "      <td>&lt;p&gt;متابعة –  مظفر إسماعيل&lt;/p&gt;&lt;p&gt; &lt;/p&gt;&lt;p&gt;نفى “ل...</td>\n",
       "    </tr>\n",
       "    <tr>\n",
       "      <th>1</th>\n",
       "      <td>1</td>\n",
       "      <td>ماذا يفعل القرنفل على الريق؟</td>\n",
       "      <td>&lt;p&gt;خبرني - القرنفل على الريق هي ذات الفوائد ال...</td>\n",
       "    </tr>\n",
       "    <tr>\n",
       "      <th>2</th>\n",
       "      <td>2</td>\n",
       "      <td>لن تتوقعها.. حيلة ذكية تجعل ثمرة الأفوكادو تنض...</td>\n",
       "      <td>&lt;p&gt;متابعة – علي معلا:&lt;/p&gt;&lt;p&gt;يحب الجميع تناول ف...</td>\n",
       "    </tr>\n",
       "    <tr>\n",
       "      <th>3</th>\n",
       "      <td>3</td>\n",
       "      <td>السعودية تستضيف اليابان ضمن 6 مباريات فى تصفيا...</td>\n",
       "      <td>تقام اليوم الخميس، 6 مواجهات ضمن مباريات الجول...</td>\n",
       "    </tr>\n",
       "    <tr>\n",
       "      <th>4</th>\n",
       "      <td>4</td>\n",
       "      <td>انتهاء التصويت.. صناديق الاقتراع العام تغلق في...</td>\n",
       "      <td>أعلنت المفوضية العليا للانتخابات في العراق عن ...</td>\n",
       "    </tr>\n",
       "    <tr>\n",
       "      <th>5</th>\n",
       "      <td>5</td>\n",
       "      <td>إنريكى: مواجهة إسبانيا ضد إيطاليا صعبة وسنلعب ...</td>\n",
       "      <td>أكد لويس انريكي المدير الفني لمنتخب اسبانيا عل...</td>\n",
       "    </tr>\n",
       "    <tr>\n",
       "      <th>6</th>\n",
       "      <td>6</td>\n",
       "      <td>تنسيقية شباب الأحزاب تعد تقريرا بعنوان\" أكتوبر...</td>\n",
       "      <td>أعدت تنسيقية شباب الأحزاب والسياسيين تقريرا تح...</td>\n",
       "    </tr>\n",
       "    <tr>\n",
       "      <th>7</th>\n",
       "      <td>7</td>\n",
       "      <td>خلال اجتماعها ..”المواد الغذائية” ترفع تقريرًا...</td>\n",
       "      <td>&lt;p&gt;رفعت شعبة المواد الغذائية بغرفة القاهرة تقر...</td>\n",
       "    </tr>\n",
       "    <tr>\n",
       "      <th>8</th>\n",
       "      <td>8</td>\n",
       "      <td>السعودية تعطل الكمبيوتر الياباني في تصفيات مون...</td>\n",
       "      <td>&lt;p&gt;خبرني  - حقق المنتخب السعودي فوزا ثمينا على...</td>\n",
       "    </tr>\n",
       "    <tr>\n",
       "      <th>9</th>\n",
       "      <td>9</td>\n",
       "      <td>اكرم يسرى جناح نادى الزمالك يحصل على لقب هداف ...</td>\n",
       "      <td>&lt;p&gt;احتل لاعب نادى الزمالك اكرم يسرى صدارة هداف...</td>\n",
       "    </tr>\n",
       "  </tbody>\n",
       "</table>\n",
       "</div>"
      ],
      "text/plain": [
       "   ID                                            Subject  \\\n",
       "0   0      سواريز يحسم الجدل الذي تسبب به احتفاله بالهدف   \n",
       "1   1                       ماذا يفعل القرنفل على الريق؟   \n",
       "2   2  لن تتوقعها.. حيلة ذكية تجعل ثمرة الأفوكادو تنض...   \n",
       "3   3  السعودية تستضيف اليابان ضمن 6 مباريات فى تصفيا...   \n",
       "4   4  انتهاء التصويت.. صناديق الاقتراع العام تغلق في...   \n",
       "5   5  إنريكى: مواجهة إسبانيا ضد إيطاليا صعبة وسنلعب ...   \n",
       "6   6  تنسيقية شباب الأحزاب تعد تقريرا بعنوان\" أكتوبر...   \n",
       "7   7  خلال اجتماعها ..”المواد الغذائية” ترفع تقريرًا...   \n",
       "8   8  السعودية تعطل الكمبيوتر الياباني في تصفيات مون...   \n",
       "9   9  اكرم يسرى جناح نادى الزمالك يحصل على لقب هداف ...   \n",
       "\n",
       "                                             Content  \n",
       "0  <p>متابعة –  مظفر إسماعيل</p><p> </p><p>نفى “ل...  \n",
       "1  <p>خبرني - القرنفل على الريق هي ذات الفوائد ال...  \n",
       "2  <p>متابعة – علي معلا:</p><p>يحب الجميع تناول ف...  \n",
       "3  تقام اليوم الخميس، 6 مواجهات ضمن مباريات الجول...  \n",
       "4  أعلنت المفوضية العليا للانتخابات في العراق عن ...  \n",
       "5  أكد لويس انريكي المدير الفني لمنتخب اسبانيا عل...  \n",
       "6  أعدت تنسيقية شباب الأحزاب والسياسيين تقريرا تح...  \n",
       "7  <p>رفعت شعبة المواد الغذائية بغرفة القاهرة تقر...  \n",
       "8  <p>خبرني  - حقق المنتخب السعودي فوزا ثمينا على...  \n",
       "9  <p>احتل لاعب نادى الزمالك اكرم يسرى صدارة هداف...  "
      ]
     },
     "execution_count": 6,
     "metadata": {},
     "output_type": "execute_result"
    }
   ],
   "source": [
    "df.head(10)"
   ]
  },
  {
   "cell_type": "markdown",
   "id": "fb6861a7",
   "metadata": {},
   "source": [
    "## Cleaning"
   ]
  },
  {
   "cell_type": "code",
   "execution_count": 7,
   "id": "67086d1c",
   "metadata": {},
   "outputs": [
    {
     "data": {
      "text/plain": [
       "'«»`÷×؛<>_()*&^%][ـ،/:\"؟.,\\'{}~¦+|!”…“–ـ!\"#$%&\\'()*+,-./:;<=>?@[\\\\]^_`{|}~'"
      ]
     },
     "execution_count": 7,
     "metadata": {},
     "output_type": "execute_result"
    }
   ],
   "source": [
    "arabic_punctuations = '''«»`÷×؛<>_()*&^%][ـ،/:\"؟.,'{}~¦+|!”…“–ـ'''\n",
    "english_punctuations = string.punctuation\n",
    "punctuations_list = arabic_punctuations + english_punctuations\n",
    "punctuations_list"
   ]
  },
  {
   "cell_type": "code",
   "execution_count": 8,
   "id": "1e261f48",
   "metadata": {},
   "outputs": [],
   "source": [
    "def clean(text):\n",
    "    output = re.sub(r'\\s*[A-Za-z]+\\b', ' ' , text) #Remove english letters\n",
    "    output = strip_harakat(output) #Remove harakat   \n",
    "    translator = str.maketrans(' ',' ', punctuations_list) #remove arabic and english punctuations\n",
    "    output = output.translate(translator)\n",
    "    output = \" \".join(output.split()) #remove extra spaces\n",
    "    output = re.sub('\\w*\\d\\w*', ' ', output)# Remove numbers\n",
    "    return output.strip()"
   ]
  },
  {
   "cell_type": "code",
   "execution_count": 9,
   "id": "f82f26d2",
   "metadata": {},
   "outputs": [],
   "source": [
    "df.Content = df.Content.map(clean)\n",
    "df.Subject = df.Subject.map(clean)\n",
    "df[\"Text\"] = df.Subject + \" \" + df.Content\n",
    "df.drop(columns=[\"ID\"], inplace=True)"
   ]
  },
  {
   "cell_type": "code",
   "execution_count": 10,
   "id": "8d1e2648",
   "metadata": {
    "scrolled": true
   },
   "outputs": [
    {
     "data": {
      "text/html": [
       "<div>\n",
       "<style scoped>\n",
       "    .dataframe tbody tr th:only-of-type {\n",
       "        vertical-align: middle;\n",
       "    }\n",
       "\n",
       "    .dataframe tbody tr th {\n",
       "        vertical-align: top;\n",
       "    }\n",
       "\n",
       "    .dataframe thead th {\n",
       "        text-align: right;\n",
       "    }\n",
       "</style>\n",
       "<table border=\"1\" class=\"dataframe\">\n",
       "  <thead>\n",
       "    <tr style=\"text-align: right;\">\n",
       "      <th></th>\n",
       "      <th>Subject</th>\n",
       "      <th>Content</th>\n",
       "      <th>Text</th>\n",
       "    </tr>\n",
       "  </thead>\n",
       "  <tbody>\n",
       "    <tr>\n",
       "      <th>0</th>\n",
       "      <td>سواريز يحسم الجدل الذي تسبب به احتفاله بالهدف</td>\n",
       "      <td>متابعة مظفر إسماعيل نفى لويس سواريز تعمده إرسا...</td>\n",
       "      <td>سواريز يحسم الجدل الذي تسبب به احتفاله بالهدف ...</td>\n",
       "    </tr>\n",
       "    <tr>\n",
       "      <th>1</th>\n",
       "      <td>ماذا يفعل القرنفل على الريق</td>\n",
       "      <td>خبرني القرنفل على الريق هي ذات الفوائد التي يج...</td>\n",
       "      <td>ماذا يفعل القرنفل على الريق خبرني القرنفل على ...</td>\n",
       "    </tr>\n",
       "    <tr>\n",
       "      <th>2</th>\n",
       "      <td>لن تتوقعها حيلة ذكية تجعل ثمرة الأفوكادو تنضج ...</td>\n",
       "      <td>متابعة علي معلا يحب الجميع تناول فاكهة الأفوكا...</td>\n",
       "      <td>لن تتوقعها حيلة ذكية تجعل ثمرة الأفوكادو تنضج ...</td>\n",
       "    </tr>\n",
       "    <tr>\n",
       "      <th>3</th>\n",
       "      <td>السعودية تستضيف اليابان ضمن   مباريات فى تصفيا...</td>\n",
       "      <td>تقام اليوم الخميس   مواجهات ضمن مباريات الجولة...</td>\n",
       "      <td>السعودية تستضيف اليابان ضمن   مباريات فى تصفيا...</td>\n",
       "    </tr>\n",
       "    <tr>\n",
       "      <th>4</th>\n",
       "      <td>انتهاء التصويت صناديق الاقتراع العام تغلق في ع...</td>\n",
       "      <td>أعلنت المفوضية العليا للانتخابات في العراق عن ...</td>\n",
       "      <td>انتهاء التصويت صناديق الاقتراع العام تغلق في ع...</td>\n",
       "    </tr>\n",
       "  </tbody>\n",
       "</table>\n",
       "</div>"
      ],
      "text/plain": [
       "                                             Subject  \\\n",
       "0      سواريز يحسم الجدل الذي تسبب به احتفاله بالهدف   \n",
       "1                        ماذا يفعل القرنفل على الريق   \n",
       "2  لن تتوقعها حيلة ذكية تجعل ثمرة الأفوكادو تنضج ...   \n",
       "3  السعودية تستضيف اليابان ضمن   مباريات فى تصفيا...   \n",
       "4  انتهاء التصويت صناديق الاقتراع العام تغلق في ع...   \n",
       "\n",
       "                                             Content  \\\n",
       "0  متابعة مظفر إسماعيل نفى لويس سواريز تعمده إرسا...   \n",
       "1  خبرني القرنفل على الريق هي ذات الفوائد التي يج...   \n",
       "2  متابعة علي معلا يحب الجميع تناول فاكهة الأفوكا...   \n",
       "3  تقام اليوم الخميس   مواجهات ضمن مباريات الجولة...   \n",
       "4  أعلنت المفوضية العليا للانتخابات في العراق عن ...   \n",
       "\n",
       "                                                Text  \n",
       "0  سواريز يحسم الجدل الذي تسبب به احتفاله بالهدف ...  \n",
       "1  ماذا يفعل القرنفل على الريق خبرني القرنفل على ...  \n",
       "2  لن تتوقعها حيلة ذكية تجعل ثمرة الأفوكادو تنضج ...  \n",
       "3  السعودية تستضيف اليابان ضمن   مباريات فى تصفيا...  \n",
       "4  انتهاء التصويت صناديق الاقتراع العام تغلق في ع...  "
      ]
     },
     "execution_count": 10,
     "metadata": {},
     "output_type": "execute_result"
    }
   ],
   "source": [
    "df.head()"
   ]
  },
  {
   "cell_type": "markdown",
   "id": "347bc37a",
   "metadata": {},
   "source": [
    "## Save clean data"
   ]
  },
  {
   "cell_type": "code",
   "execution_count": 11,
   "id": "eac02188",
   "metadata": {},
   "outputs": [],
   "source": [
    "df.to_csv(\"clean_data.csv\")"
   ]
  },
  {
   "cell_type": "markdown",
   "id": "baf1fa9a",
   "metadata": {},
   "source": [
    "## Arabic Stopwords"
   ]
  },
  {
   "cell_type": "code",
   "execution_count": 12,
   "id": "031e1092",
   "metadata": {},
   "outputs": [
    {
     "name": "stderr",
     "output_type": "stream",
     "text": [
      "[nltk_data] Downloading package stopwords to\n",
      "[nltk_data]     C:\\Users\\masha\\AppData\\Roaming\\nltk_data...\n",
      "[nltk_data]   Unzipping corpora\\stopwords.zip.\n"
     ]
    },
    {
     "data": {
      "text/plain": [
       "True"
      ]
     },
     "execution_count": 12,
     "metadata": {},
     "output_type": "execute_result"
    }
   ],
   "source": [
    "nltk.download(\"stopwords\")"
   ]
  },
  {
   "cell_type": "code",
   "execution_count": 13,
   "id": "6c15dc80",
   "metadata": {},
   "outputs": [],
   "source": [
    "arb_stopwords = set(nltk.corpus.stopwords.words(\"arabic\"))"
   ]
  },
  {
   "cell_type": "markdown",
   "id": "0d37eed4",
   "metadata": {},
   "source": [
    "## K_mean"
   ]
  },
  {
   "cell_type": "code",
   "execution_count": 14,
   "id": "984dcd4f",
   "metadata": {},
   "outputs": [
    {
     "name": "stderr",
     "output_type": "stream",
     "text": [
      "C:\\ProgramData\\Anaconda3\\lib\\site-packages\\sklearn\\feature_extraction\\text.py:388: UserWarning: Your stop_words may be inconsistent with your preprocessing. Tokenizing the stop words generated tokens ['آمين', 'أب', 'أخ', 'أفعل', 'أفعله', 'ؤلاء', 'إل', 'إم', 'ات', 'اتان', 'ارتد', 'ان', 'انفك', 'برح', 'تان', 'تبد', 'تحو', 'تعل', 'حد', 'حم', 'حي', 'خب', 'ذار', 'سيما', 'صه', 'ظل', 'ظن', 'عد', 'قط', 'مر', 'مكان', 'مكانكن', 'نب', 'هات', 'هب', 'واها', 'وراء'] not in stop_words.\n",
      "  warnings.warn('Your stop_words may be inconsistent with '\n"
     ]
    },
    {
     "name": "stdout",
     "output_type": "stream",
     "text": [
      "Top terms per cluster:\n",
      "Cluster 0:\n",
      " لقاح\n",
      " جرعة\n",
      " كورونا\n",
      " اللقاح\n",
      " فايزر\n",
      " الجرعة\n",
      " الصحة\n",
      " التطعيم\n",
      " فيروس\n",
      " الجرعات\n",
      "Cluster 1:\n",
      " حالة\n",
      " كورونا\n",
      " إصابة\n",
      " الصحة\n",
      " جديدة\n",
      " وفاة\n",
      " يمكن\n",
      " تسجيل\n",
      " بفيروس\n",
      " الدم\n",
      "Cluster 2:\n",
      " سعر\n",
      " خلال\n",
      " للشراء\n",
      " للبيع\n",
      " المملكة\n",
      " رئيس\n",
      " مجلس\n",
      " بن\n",
      " العام\n",
      " المتحدة\n",
      "Cluster 3:\n",
      " الدوري\n",
      " فى\n",
      " منتخب\n",
      " الفريق\n",
      " المباراة\n",
      " مباراة\n",
      " صلاح\n",
      " محمد\n",
      " الزمالك\n",
      " المنتخب\n",
      "Cluster 4:\n",
      " الذهب\n",
      " سعر\n",
      " عيار\n",
      " أسعار\n",
      " جرام\n",
      " الدولار\n",
      " دينارا\n",
      " تعاملات\n",
      " سجل\n",
      " وسجل\n"
     ]
    }
   ],
   "source": [
    "documents = df.Text.copy()\n",
    "\n",
    "vectorizer = TfidfVectorizer(stop_words=arb_stopwords)\n",
    "X = vectorizer.fit_transform(documents)\n",
    "\n",
    "true_k = 5\n",
    "# model = KMeans(n_clusters=true_k, init='k-means++',random_state=60, max_iter=100, n_init=1)\n",
    "model = KMeans(n_clusters=true_k, init='k-means++',random_state=60, max_iter=100, n_init=1)\n",
    "model.fit(X)\n",
    "\n",
    "print(\"Top terms per cluster:\")\n",
    "order_centroids = model.cluster_centers_.argsort()[:, ::-1]\n",
    "terms = vectorizer.get_feature_names()\n",
    "for i in range(true_k):\n",
    "    print(\"Cluster %d:\" % i),\n",
    "    for ind in order_centroids[i, :10]:\n",
    "        print(' %s' % terms[ind]),"
   ]
  },
  {
   "cell_type": "markdown",
   "id": "1a47ac0c",
   "metadata": {},
   "source": [
    "### Results\n",
    "> We can notice that topics are:\n",
    ">> Cluster 0: Health<br>\n",
    ">> Cluster 1: Health<br>\n",
    ">> Cluster 2: Politics<br>\n",
    ">> Cluster 3: Sports<br>\n",
    ">> Cluster 4: Economy And Finance"
   ]
  },
  {
   "cell_type": "code",
   "execution_count": 15,
   "id": "d6f8cd21",
   "metadata": {},
   "outputs": [
    {
     "name": "stdout",
     "output_type": "stream",
     "text": [
      "[3 1 1 ... 0 4 1]\n"
     ]
    }
   ],
   "source": [
    "prediction = model.predict(X)\n",
    "print(prediction)"
   ]
  },
  {
   "cell_type": "code",
   "execution_count": 16,
   "id": "8c2fedec",
   "metadata": {},
   "outputs": [],
   "source": [
    "df[\"Topic_AR\"] = prediction\n",
    "df.Topic_AR.replace({0: \"صحة\", 1:\"صحة\", 2:\"سياسة\", 3:\"رياضة\", 4:\"إقتصاد\" }, inplace=True)\n",
    "\n",
    "df[\"Topic_EN\"] = prediction\n",
    "df.Topic_EN.replace({0: \"Health\", 1:\"Health\", 2:\"Politics\", 3:\"Sports\", 4:\"Eco\" }, inplace=True)"
   ]
  },
  {
   "cell_type": "code",
   "execution_count": 17,
   "id": "9dd8337f",
   "metadata": {
    "scrolled": true
   },
   "outputs": [
    {
     "data": {
      "text/html": [
       "<div>\n",
       "<style scoped>\n",
       "    .dataframe tbody tr th:only-of-type {\n",
       "        vertical-align: middle;\n",
       "    }\n",
       "\n",
       "    .dataframe tbody tr th {\n",
       "        vertical-align: top;\n",
       "    }\n",
       "\n",
       "    .dataframe thead th {\n",
       "        text-align: right;\n",
       "    }\n",
       "</style>\n",
       "<table border=\"1\" class=\"dataframe\">\n",
       "  <thead>\n",
       "    <tr style=\"text-align: right;\">\n",
       "      <th></th>\n",
       "      <th>Subject</th>\n",
       "      <th>Content</th>\n",
       "      <th>Text</th>\n",
       "      <th>Topic_AR</th>\n",
       "      <th>Topic_EN</th>\n",
       "    </tr>\n",
       "  </thead>\n",
       "  <tbody>\n",
       "    <tr>\n",
       "      <th>0</th>\n",
       "      <td>سواريز يحسم الجدل الذي تسبب به احتفاله بالهدف</td>\n",
       "      <td>متابعة مظفر إسماعيل نفى لويس سواريز تعمده إرسا...</td>\n",
       "      <td>سواريز يحسم الجدل الذي تسبب به احتفاله بالهدف ...</td>\n",
       "      <td>رياضة</td>\n",
       "      <td>Sports</td>\n",
       "    </tr>\n",
       "    <tr>\n",
       "      <th>1</th>\n",
       "      <td>ماذا يفعل القرنفل على الريق</td>\n",
       "      <td>خبرني القرنفل على الريق هي ذات الفوائد التي يج...</td>\n",
       "      <td>ماذا يفعل القرنفل على الريق خبرني القرنفل على ...</td>\n",
       "      <td>صحة</td>\n",
       "      <td>Health</td>\n",
       "    </tr>\n",
       "    <tr>\n",
       "      <th>2</th>\n",
       "      <td>لن تتوقعها حيلة ذكية تجعل ثمرة الأفوكادو تنضج ...</td>\n",
       "      <td>متابعة علي معلا يحب الجميع تناول فاكهة الأفوكا...</td>\n",
       "      <td>لن تتوقعها حيلة ذكية تجعل ثمرة الأفوكادو تنضج ...</td>\n",
       "      <td>صحة</td>\n",
       "      <td>Health</td>\n",
       "    </tr>\n",
       "    <tr>\n",
       "      <th>3</th>\n",
       "      <td>السعودية تستضيف اليابان ضمن   مباريات فى تصفيا...</td>\n",
       "      <td>تقام اليوم الخميس   مواجهات ضمن مباريات الجولة...</td>\n",
       "      <td>السعودية تستضيف اليابان ضمن   مباريات فى تصفيا...</td>\n",
       "      <td>رياضة</td>\n",
       "      <td>Sports</td>\n",
       "    </tr>\n",
       "    <tr>\n",
       "      <th>4</th>\n",
       "      <td>انتهاء التصويت صناديق الاقتراع العام تغلق في ع...</td>\n",
       "      <td>أعلنت المفوضية العليا للانتخابات في العراق عن ...</td>\n",
       "      <td>انتهاء التصويت صناديق الاقتراع العام تغلق في ع...</td>\n",
       "      <td>سياسة</td>\n",
       "      <td>Politics</td>\n",
       "    </tr>\n",
       "    <tr>\n",
       "      <th>5</th>\n",
       "      <td>إنريكى مواجهة إسبانيا ضد إيطاليا صعبة وسنلعب ب...</td>\n",
       "      <td>أكد لويس انريكي المدير الفني لمنتخب اسبانيا عل...</td>\n",
       "      <td>إنريكى مواجهة إسبانيا ضد إيطاليا صعبة وسنلعب ب...</td>\n",
       "      <td>رياضة</td>\n",
       "      <td>Sports</td>\n",
       "    </tr>\n",
       "    <tr>\n",
       "      <th>6</th>\n",
       "      <td>تنسيقية شباب الأحزاب تعد تقريرا بعنوان أكتوبر ...</td>\n",
       "      <td>أعدت تنسيقية شباب الأحزاب والسياسيين تقريرا تح...</td>\n",
       "      <td>تنسيقية شباب الأحزاب تعد تقريرا بعنوان أكتوبر ...</td>\n",
       "      <td>سياسة</td>\n",
       "      <td>Politics</td>\n",
       "    </tr>\n",
       "    <tr>\n",
       "      <th>7</th>\n",
       "      <td>خلال اجتماعها المواد الغذائية ترفع تقريرا لالع...</td>\n",
       "      <td>رفعت شعبة المواد الغذائية بغرفة القاهرة تقريرا...</td>\n",
       "      <td>خلال اجتماعها المواد الغذائية ترفع تقريرا لالع...</td>\n",
       "      <td>سياسة</td>\n",
       "      <td>Politics</td>\n",
       "    </tr>\n",
       "    <tr>\n",
       "      <th>8</th>\n",
       "      <td>السعودية تعطل الكمبيوتر الياباني في تصفيات مون...</td>\n",
       "      <td>خبرني حقق المنتخب السعودي فوزا ثمينا على نظيره...</td>\n",
       "      <td>السعودية تعطل الكمبيوتر الياباني في تصفيات مون...</td>\n",
       "      <td>رياضة</td>\n",
       "      <td>Sports</td>\n",
       "    </tr>\n",
       "    <tr>\n",
       "      <th>9</th>\n",
       "      <td>اكرم يسرى جناح نادى الزمالك يحصل على لقب هداف ...</td>\n",
       "      <td>احتل لاعب نادى الزمالك اكرم يسرى صدارة هدافين ...</td>\n",
       "      <td>اكرم يسرى جناح نادى الزمالك يحصل على لقب هداف ...</td>\n",
       "      <td>رياضة</td>\n",
       "      <td>Sports</td>\n",
       "    </tr>\n",
       "    <tr>\n",
       "      <th>10</th>\n",
       "      <td>اسعار العملات والمعادن</td>\n",
       "      <td>بيت لحم معا جاءت أسعار صرف العملات مقابل الشيك...</td>\n",
       "      <td>اسعار العملات والمعادن بيت لحم معا جاءت أسعار ...</td>\n",
       "      <td>سياسة</td>\n",
       "      <td>Politics</td>\n",
       "    </tr>\n",
       "    <tr>\n",
       "      <th>11</th>\n",
       "      <td>من نفسية جدة إلى الليث عودة لمسن غميقة وشقيقته...</td>\n",
       "      <td>عاد مسن غميقة وشقيقته إلى محافظة الليث بعد أن ...</td>\n",
       "      <td>من نفسية جدة إلى الليث عودة لمسن غميقة وشقيقته...</td>\n",
       "      <td>سياسة</td>\n",
       "      <td>Politics</td>\n",
       "    </tr>\n",
       "    <tr>\n",
       "      <th>12</th>\n",
       "      <td>الأخضر يواجه الساموراي الياباني بذكريات هدف ال...</td>\n",
       "      <td>جدة هلال سلمان يخوض منتخبنا الوطني مساء اليوم ...</td>\n",
       "      <td>الأخضر يواجه الساموراي الياباني بذكريات هدف ال...</td>\n",
       "      <td>رياضة</td>\n",
       "      <td>Sports</td>\n",
       "    </tr>\n",
       "    <tr>\n",
       "      <th>13</th>\n",
       "      <td>أفضل الأطعمة والمشروبات عند الإصابة أو التعافي...</td>\n",
       "      <td>خبرني كشفت منظمة الصحة العالمية عن أفضل الأطعم...</td>\n",
       "      <td>أفضل الأطعمة والمشروبات عند الإصابة أو التعافي...</td>\n",
       "      <td>صحة</td>\n",
       "      <td>Health</td>\n",
       "    </tr>\n",
       "    <tr>\n",
       "      <th>14</th>\n",
       "      <td>إسبانيول يزيد معاناة ريال مدريد بالهدف الثانى ...</td>\n",
       "      <td>أحرز أليكس فيدال لاعب فريق إسبانيول الهدف الثا...</td>\n",
       "      <td>إسبانيول يزيد معاناة ريال مدريد بالهدف الثانى ...</td>\n",
       "      <td>رياضة</td>\n",
       "      <td>Sports</td>\n",
       "    </tr>\n",
       "    <tr>\n",
       "      <th>15</th>\n",
       "      <td>بولندا تستدعي القائم بالأعمال البيلاروسي بعد إ...</td>\n",
       "      <td>أفادت وسائل إعلام بأن وزارة الخارجية البولندية...</td>\n",
       "      <td>بولندا تستدعي القائم بالأعمال البيلاروسي بعد إ...</td>\n",
       "      <td>سياسة</td>\n",
       "      <td>Politics</td>\n",
       "    </tr>\n",
       "    <tr>\n",
       "      <th>16</th>\n",
       "      <td>حاكمة نيويورك تبحث استبدال الغير المطعمين بالر...</td>\n",
       "      <td>قالت صحيفة نيويورك تايمز إن حاكمة ولاية نيويور...</td>\n",
       "      <td>حاكمة نيويورك تبحث استبدال الغير المطعمين بالر...</td>\n",
       "      <td>سياسة</td>\n",
       "      <td>Politics</td>\n",
       "    </tr>\n",
       "    <tr>\n",
       "      <th>17</th>\n",
       "      <td>النصر يكشف عن هوية مدربه الجديد خلال ساعات</td>\n",
       "      <td>أعلن نادي النصر الكشف عن هوية مدربه الجديد خلا...</td>\n",
       "      <td>النصر يكشف عن هوية مدربه الجديد خلال ساعات أعل...</td>\n",
       "      <td>رياضة</td>\n",
       "      <td>Sports</td>\n",
       "    </tr>\n",
       "    <tr>\n",
       "      <th>18</th>\n",
       "      <td>أسعار الدولار واليورو في ليبيا اليوم الأربعاء ...</td>\n",
       "      <td>تباينت أسعار صرف معظم العملات العربية والأجنبي...</td>\n",
       "      <td>أسعار الدولار واليورو في ليبيا اليوم الأربعاء ...</td>\n",
       "      <td>إقتصاد</td>\n",
       "      <td>Eco</td>\n",
       "    </tr>\n",
       "    <tr>\n",
       "      <th>19</th>\n",
       "      <td>تخصيص   ملايين ريال لدعم رواد الأعمال في الجبي...</td>\n",
       "      <td>أوصى مركز أرامكو لريادة الأعمال               ...</td>\n",
       "      <td>تخصيص   ملايين ريال لدعم رواد الأعمال في الجبي...</td>\n",
       "      <td>سياسة</td>\n",
       "      <td>Politics</td>\n",
       "    </tr>\n",
       "    <tr>\n",
       "      <th>20</th>\n",
       "      <td>سعر الدولار اليوم الإثنين   أكتوبر   في العراق</td>\n",
       "      <td>تباينت أسعار صرف الدولار مقابل الدينار العراقي...</td>\n",
       "      <td>سعر الدولار اليوم الإثنين   أكتوبر   في العراق...</td>\n",
       "      <td>إقتصاد</td>\n",
       "      <td>Eco</td>\n",
       "    </tr>\n",
       "    <tr>\n",
       "      <th>21</th>\n",
       "      <td>استقالة مفوّضة دوري السيدات الأميركي وسط فضيحة...</td>\n",
       "      <td>لوس أنجليس استقالت ليزا بيرد مفوّضة رابطة دوري...</td>\n",
       "      <td>استقالة مفوّضة دوري السيدات الأميركي وسط فضيحة...</td>\n",
       "      <td>رياضة</td>\n",
       "      <td>Sports</td>\n",
       "    </tr>\n",
       "    <tr>\n",
       "      <th>22</th>\n",
       "      <td>صلاح ومحرز على رأس المرشحين لجائزة أفضل لاعب ف...</td>\n",
       "      <td>أعلنت مجلة فرانس فوتبول الفرنسية اليوم الجمعة ...</td>\n",
       "      <td>صلاح ومحرز على رأس المرشحين لجائزة أفضل لاعب ف...</td>\n",
       "      <td>رياضة</td>\n",
       "      <td>Sports</td>\n",
       "    </tr>\n",
       "    <tr>\n",
       "      <th>23</th>\n",
       "      <td>تراجع أسعار الذهب في السعودية اليوم الاثنين</td>\n",
       "      <td>هبطت أسعار الذهب في السعودية اليوم الاثنين   س...</td>\n",
       "      <td>تراجع أسعار الذهب في السعودية اليوم الاثنين هب...</td>\n",
       "      <td>إقتصاد</td>\n",
       "      <td>Eco</td>\n",
       "    </tr>\n",
       "    <tr>\n",
       "      <th>24</th>\n",
       "      <td>فاكهة تحسن عملية التمثيل الغذائي وتخفض الكوليس...</td>\n",
       "      <td>خبرني كشفت الصحيفة اليابانية نيهون كيزاي عن فا...</td>\n",
       "      <td>فاكهة تحسن عملية التمثيل الغذائي وتخفض الكوليس...</td>\n",
       "      <td>صحة</td>\n",
       "      <td>Health</td>\n",
       "    </tr>\n",
       "    <tr>\n",
       "      <th>25</th>\n",
       "      <td>أطعمة إذا تجنّبت تناولها تخلصت من دهون البطن</td>\n",
       "      <td>متابعة لجين اسماعيل تعد دهون البطن من الأمور ا...</td>\n",
       "      <td>أطعمة إذا تجنّبت تناولها تخلصت من دهون البطن م...</td>\n",
       "      <td>صحة</td>\n",
       "      <td>Health</td>\n",
       "    </tr>\n",
       "    <tr>\n",
       "      <th>26</th>\n",
       "      <td>إصابة الشناوي قبل مباراة مصر وليبيا في تصفيات ...</td>\n",
       "      <td>أعلن الجهاز الفني للمنتخب المصري عن إصابة محمد...</td>\n",
       "      <td>إصابة الشناوي قبل مباراة مصر وليبيا في تصفيات ...</td>\n",
       "      <td>رياضة</td>\n",
       "      <td>Sports</td>\n",
       "    </tr>\n",
       "    <tr>\n",
       "      <th>27</th>\n",
       "      <td>محليات الخارجية الصينية اتزان سياسة الكويت الخ...</td>\n",
       "      <td>أشاد مسؤول صيني اليوم الأربعاء باتزان سياسة دو...</td>\n",
       "      <td>محليات الخارجية الصينية اتزان سياسة الكويت الخ...</td>\n",
       "      <td>سياسة</td>\n",
       "      <td>Politics</td>\n",
       "    </tr>\n",
       "    <tr>\n",
       "      <th>28</th>\n",
       "      <td>توقعات سعر الريبل هل يرتفع سعر الريبل الآن</td>\n",
       "      <td>هناك شيئان يجتمعان حاليا في سعر الريبل أولا حل...</td>\n",
       "      <td>توقعات سعر الريبل هل يرتفع سعر الريبل الآن هنا...</td>\n",
       "      <td>سياسة</td>\n",
       "      <td>Politics</td>\n",
       "    </tr>\n",
       "    <tr>\n",
       "      <th>29</th>\n",
       "      <td>مشروب سحري تقارير طبية تكشف دور الشاي الأخضر ف...</td>\n",
       "      <td>منذ أن حلّ فيروس كورونا المستجد على البشرية أص...</td>\n",
       "      <td>مشروب سحري تقارير طبية تكشف دور الشاي الأخضر ف...</td>\n",
       "      <td>صحة</td>\n",
       "      <td>Health</td>\n",
       "    </tr>\n",
       "  </tbody>\n",
       "</table>\n",
       "</div>"
      ],
      "text/plain": [
       "                                              Subject  \\\n",
       "0       سواريز يحسم الجدل الذي تسبب به احتفاله بالهدف   \n",
       "1                         ماذا يفعل القرنفل على الريق   \n",
       "2   لن تتوقعها حيلة ذكية تجعل ثمرة الأفوكادو تنضج ...   \n",
       "3   السعودية تستضيف اليابان ضمن   مباريات فى تصفيا...   \n",
       "4   انتهاء التصويت صناديق الاقتراع العام تغلق في ع...   \n",
       "5   إنريكى مواجهة إسبانيا ضد إيطاليا صعبة وسنلعب ب...   \n",
       "6   تنسيقية شباب الأحزاب تعد تقريرا بعنوان أكتوبر ...   \n",
       "7   خلال اجتماعها المواد الغذائية ترفع تقريرا لالع...   \n",
       "8   السعودية تعطل الكمبيوتر الياباني في تصفيات مون...   \n",
       "9   اكرم يسرى جناح نادى الزمالك يحصل على لقب هداف ...   \n",
       "10                             اسعار العملات والمعادن   \n",
       "11  من نفسية جدة إلى الليث عودة لمسن غميقة وشقيقته...   \n",
       "12  الأخضر يواجه الساموراي الياباني بذكريات هدف ال...   \n",
       "13  أفضل الأطعمة والمشروبات عند الإصابة أو التعافي...   \n",
       "14  إسبانيول يزيد معاناة ريال مدريد بالهدف الثانى ...   \n",
       "15  بولندا تستدعي القائم بالأعمال البيلاروسي بعد إ...   \n",
       "16  حاكمة نيويورك تبحث استبدال الغير المطعمين بالر...   \n",
       "17         النصر يكشف عن هوية مدربه الجديد خلال ساعات   \n",
       "18  أسعار الدولار واليورو في ليبيا اليوم الأربعاء ...   \n",
       "19  تخصيص   ملايين ريال لدعم رواد الأعمال في الجبي...   \n",
       "20     سعر الدولار اليوم الإثنين   أكتوبر   في العراق   \n",
       "21  استقالة مفوّضة دوري السيدات الأميركي وسط فضيحة...   \n",
       "22  صلاح ومحرز على رأس المرشحين لجائزة أفضل لاعب ف...   \n",
       "23        تراجع أسعار الذهب في السعودية اليوم الاثنين   \n",
       "24  فاكهة تحسن عملية التمثيل الغذائي وتخفض الكوليس...   \n",
       "25       أطعمة إذا تجنّبت تناولها تخلصت من دهون البطن   \n",
       "26  إصابة الشناوي قبل مباراة مصر وليبيا في تصفيات ...   \n",
       "27  محليات الخارجية الصينية اتزان سياسة الكويت الخ...   \n",
       "28         توقعات سعر الريبل هل يرتفع سعر الريبل الآن   \n",
       "29  مشروب سحري تقارير طبية تكشف دور الشاي الأخضر ف...   \n",
       "\n",
       "                                              Content  \\\n",
       "0   متابعة مظفر إسماعيل نفى لويس سواريز تعمده إرسا...   \n",
       "1   خبرني القرنفل على الريق هي ذات الفوائد التي يج...   \n",
       "2   متابعة علي معلا يحب الجميع تناول فاكهة الأفوكا...   \n",
       "3   تقام اليوم الخميس   مواجهات ضمن مباريات الجولة...   \n",
       "4   أعلنت المفوضية العليا للانتخابات في العراق عن ...   \n",
       "5   أكد لويس انريكي المدير الفني لمنتخب اسبانيا عل...   \n",
       "6   أعدت تنسيقية شباب الأحزاب والسياسيين تقريرا تح...   \n",
       "7   رفعت شعبة المواد الغذائية بغرفة القاهرة تقريرا...   \n",
       "8   خبرني حقق المنتخب السعودي فوزا ثمينا على نظيره...   \n",
       "9   احتل لاعب نادى الزمالك اكرم يسرى صدارة هدافين ...   \n",
       "10  بيت لحم معا جاءت أسعار صرف العملات مقابل الشيك...   \n",
       "11  عاد مسن غميقة وشقيقته إلى محافظة الليث بعد أن ...   \n",
       "12  جدة هلال سلمان يخوض منتخبنا الوطني مساء اليوم ...   \n",
       "13  خبرني كشفت منظمة الصحة العالمية عن أفضل الأطعم...   \n",
       "14  أحرز أليكس فيدال لاعب فريق إسبانيول الهدف الثا...   \n",
       "15  أفادت وسائل إعلام بأن وزارة الخارجية البولندية...   \n",
       "16  قالت صحيفة نيويورك تايمز إن حاكمة ولاية نيويور...   \n",
       "17  أعلن نادي النصر الكشف عن هوية مدربه الجديد خلا...   \n",
       "18  تباينت أسعار صرف معظم العملات العربية والأجنبي...   \n",
       "19  أوصى مركز أرامكو لريادة الأعمال               ...   \n",
       "20  تباينت أسعار صرف الدولار مقابل الدينار العراقي...   \n",
       "21  لوس أنجليس استقالت ليزا بيرد مفوّضة رابطة دوري...   \n",
       "22  أعلنت مجلة فرانس فوتبول الفرنسية اليوم الجمعة ...   \n",
       "23  هبطت أسعار الذهب في السعودية اليوم الاثنين   س...   \n",
       "24  خبرني كشفت الصحيفة اليابانية نيهون كيزاي عن فا...   \n",
       "25  متابعة لجين اسماعيل تعد دهون البطن من الأمور ا...   \n",
       "26  أعلن الجهاز الفني للمنتخب المصري عن إصابة محمد...   \n",
       "27  أشاد مسؤول صيني اليوم الأربعاء باتزان سياسة دو...   \n",
       "28  هناك شيئان يجتمعان حاليا في سعر الريبل أولا حل...   \n",
       "29  منذ أن حلّ فيروس كورونا المستجد على البشرية أص...   \n",
       "\n",
       "                                                 Text Topic_AR  Topic_EN  \n",
       "0   سواريز يحسم الجدل الذي تسبب به احتفاله بالهدف ...    رياضة    Sports  \n",
       "1   ماذا يفعل القرنفل على الريق خبرني القرنفل على ...      صحة    Health  \n",
       "2   لن تتوقعها حيلة ذكية تجعل ثمرة الأفوكادو تنضج ...      صحة    Health  \n",
       "3   السعودية تستضيف اليابان ضمن   مباريات فى تصفيا...    رياضة    Sports  \n",
       "4   انتهاء التصويت صناديق الاقتراع العام تغلق في ع...    سياسة  Politics  \n",
       "5   إنريكى مواجهة إسبانيا ضد إيطاليا صعبة وسنلعب ب...    رياضة    Sports  \n",
       "6   تنسيقية شباب الأحزاب تعد تقريرا بعنوان أكتوبر ...    سياسة  Politics  \n",
       "7   خلال اجتماعها المواد الغذائية ترفع تقريرا لالع...    سياسة  Politics  \n",
       "8   السعودية تعطل الكمبيوتر الياباني في تصفيات مون...    رياضة    Sports  \n",
       "9   اكرم يسرى جناح نادى الزمالك يحصل على لقب هداف ...    رياضة    Sports  \n",
       "10  اسعار العملات والمعادن بيت لحم معا جاءت أسعار ...    سياسة  Politics  \n",
       "11  من نفسية جدة إلى الليث عودة لمسن غميقة وشقيقته...    سياسة  Politics  \n",
       "12  الأخضر يواجه الساموراي الياباني بذكريات هدف ال...    رياضة    Sports  \n",
       "13  أفضل الأطعمة والمشروبات عند الإصابة أو التعافي...      صحة    Health  \n",
       "14  إسبانيول يزيد معاناة ريال مدريد بالهدف الثانى ...    رياضة    Sports  \n",
       "15  بولندا تستدعي القائم بالأعمال البيلاروسي بعد إ...    سياسة  Politics  \n",
       "16  حاكمة نيويورك تبحث استبدال الغير المطعمين بالر...    سياسة  Politics  \n",
       "17  النصر يكشف عن هوية مدربه الجديد خلال ساعات أعل...    رياضة    Sports  \n",
       "18  أسعار الدولار واليورو في ليبيا اليوم الأربعاء ...   إقتصاد       Eco  \n",
       "19  تخصيص   ملايين ريال لدعم رواد الأعمال في الجبي...    سياسة  Politics  \n",
       "20  سعر الدولار اليوم الإثنين   أكتوبر   في العراق...   إقتصاد       Eco  \n",
       "21  استقالة مفوّضة دوري السيدات الأميركي وسط فضيحة...    رياضة    Sports  \n",
       "22  صلاح ومحرز على رأس المرشحين لجائزة أفضل لاعب ف...    رياضة    Sports  \n",
       "23  تراجع أسعار الذهب في السعودية اليوم الاثنين هب...   إقتصاد       Eco  \n",
       "24  فاكهة تحسن عملية التمثيل الغذائي وتخفض الكوليس...      صحة    Health  \n",
       "25  أطعمة إذا تجنّبت تناولها تخلصت من دهون البطن م...      صحة    Health  \n",
       "26  إصابة الشناوي قبل مباراة مصر وليبيا في تصفيات ...    رياضة    Sports  \n",
       "27  محليات الخارجية الصينية اتزان سياسة الكويت الخ...    سياسة  Politics  \n",
       "28  توقعات سعر الريبل هل يرتفع سعر الريبل الآن هنا...    سياسة  Politics  \n",
       "29  مشروب سحري تقارير طبية تكشف دور الشاي الأخضر ف...      صحة    Health  "
      ]
     },
     "execution_count": 17,
     "metadata": {},
     "output_type": "execute_result"
    }
   ],
   "source": [
    "df.head(30)"
   ]
  },
  {
   "cell_type": "markdown",
   "id": "c95c7a31",
   "metadata": {},
   "source": [
    "# Save the model"
   ]
  },
  {
   "cell_type": "code",
   "execution_count": 17,
   "id": "258796a3",
   "metadata": {},
   "outputs": [],
   "source": [
    "filename = \"model1.sav\"\n",
    "pickle.dump(model, open(filename,\"wb\"))"
   ]
  },
  {
   "cell_type": "markdown",
   "id": "15cbc7af",
   "metadata": {},
   "source": [
    "# LSA"
   ]
  },
  {
   "cell_type": "code",
   "execution_count": 18,
   "id": "1d0332e9",
   "metadata": {},
   "outputs": [
    {
     "name": "stderr",
     "output_type": "stream",
     "text": [
      "D:\\Program files\\anaconda3\\lib\\site-packages\\sklearn\\feature_extraction\\text.py:388: UserWarning: Your stop_words may be inconsistent with your preprocessing. Tokenizing the stop words generated tokens ['آمين', 'أب', 'أخ', 'أفعل', 'أفعله', 'ؤلاء', 'إل', 'إم', 'ات', 'اتان', 'ارتد', 'ان', 'انفك', 'برح', 'تان', 'تبد', 'تحو', 'تعل', 'حد', 'حم', 'حي', 'خب', 'ذار', 'سيما', 'صه', 'ظل', 'ظن', 'عد', 'قط', 'مر', 'مكان', 'مكانكن', 'نب', 'هات', 'هب', 'واها', 'وراء'] not in stop_words.\n",
      "  warnings.warn('Your stop_words may be inconsistent with '\n"
     ]
    },
    {
     "data": {
      "text/plain": [
       "(12225, 861866)"
      ]
     },
     "execution_count": 18,
     "metadata": {},
     "output_type": "execute_result"
    }
   ],
   "source": [
    "vectorizer = TfidfVectorizer(stop_words=arb_stopwords, ngram_range=(1,2))\n",
    "doc_word = vectorizer.fit_transform(documents)\n",
    "doc_word.shape"
   ]
  },
  {
   "cell_type": "code",
   "execution_count": 19,
   "id": "3c58aa39",
   "metadata": {},
   "outputs": [
    {
     "data": {
      "text/plain": [
       "array([0.01531928, 0.0073848 , 0.00775827, 0.00247807])"
      ]
     },
     "execution_count": 19,
     "metadata": {},
     "output_type": "execute_result"
    }
   ],
   "source": [
    "lsa = TruncatedSVD(4)\n",
    "doc_topic = lsa.fit_transform(doc_word)\n",
    "# the percentage of variance that is attributed by each of the selected components/topics\n",
    "lsa.explained_variance_ratio_"
   ]
  },
  {
   "cell_type": "code",
   "execution_count": 20,
   "id": "baed9085",
   "metadata": {},
   "outputs": [],
   "source": [
    "def display_topics(model, feature_names, no_top_words, topic_names=None):\n",
    "    for ix, topic in enumerate(model.components_):\n",
    "        if not topic_names or not topic_names[ix]:\n",
    "            print(\"\\nTopic \", ix)\n",
    "        else:\n",
    "            print(\"\\nTopic: '\",topic_names[ix],\"'\")\n",
    "        print(\", \".join([feature_names[i]\n",
    "                        for i in topic.argsort()[:-no_top_words - 1:-1]]))"
   ]
  },
  {
   "cell_type": "code",
   "execution_count": 21,
   "id": "a6313fa4",
   "metadata": {},
   "outputs": [
    {
     "name": "stdout",
     "output_type": "stream",
     "text": [
      "\n",
      "Topic  0\n",
      "الذهب, سعر, عيار, الذهب عيار, أسعار, جرام الذهب, جرام, سعر جرام, أسعار الذهب, الدولار\n",
      "\n",
      "Topic  1\n",
      "حالة, كورونا, جديدة, الصحة, إصابة, تسجيل, وفاة, إجمالي, عدد, إصابة جديدة\n",
      "\n",
      "Topic  2\n",
      "للشراء, للبيع, للشراء للبيع, سعر, المركزي, متوسط سعر, بنك, الدينار, متوسط, الموازية\n",
      "\n",
      "Topic  3\n",
      "فى, محمد, صلاح, الدوري, منتخب, جرعة, مباراة, المباراة, خلال, الفريق\n"
     ]
    }
   ],
   "source": [
    "display_topics(lsa, vectorizer.get_feature_names(), 10)"
   ]
  },
  {
   "cell_type": "code",
   "execution_count": 22,
   "id": "b8c8500e",
   "metadata": {},
   "outputs": [
    {
     "data": {
      "text/html": [
       "<div>\n",
       "<style scoped>\n",
       "    .dataframe tbody tr th:only-of-type {\n",
       "        vertical-align: middle;\n",
       "    }\n",
       "\n",
       "    .dataframe tbody tr th {\n",
       "        vertical-align: top;\n",
       "    }\n",
       "\n",
       "    .dataframe thead th {\n",
       "        text-align: right;\n",
       "    }\n",
       "</style>\n",
       "<table border=\"1\" class=\"dataframe\">\n",
       "  <thead>\n",
       "    <tr style=\"text-align: right;\">\n",
       "      <th></th>\n",
       "      <th>component_1</th>\n",
       "      <th>component_2</th>\n",
       "      <th>component_3</th>\n",
       "      <th>component_4</th>\n",
       "    </tr>\n",
       "    <tr>\n",
       "      <th>Text</th>\n",
       "      <th></th>\n",
       "      <th></th>\n",
       "      <th></th>\n",
       "      <th></th>\n",
       "    </tr>\n",
       "  </thead>\n",
       "  <tbody>\n",
       "    <tr>\n",
       "      <th>سواريز يحسم الجدل الذي تسبب به احتفاله بالهدف متابعة مظفر إسماعيل نفى لويس سواريز تعمده إرسال رسالة إلى رونالد كومان خلال لقاء أتلتيكو مدريد وضيفه برشلونة في الدوري الإسباني السبت وبعدما سجل سواريز هدف أتلتيكو الثاني أشار المهاجم المخضرم بيده وكأنه يمسك هاتفا ويتحدث إلى شخص ما وهو ما ربطه المتابعون بمكالمة كومان إلى سواريز في صيف   التي أبلغه خلالها بأنه خرج من خططه وأن عليه الرحيل عن برشلونة والبحث عن فريق آخر وقال سواريز بعد اللقاء الذي ابتسم لأصحاب الأرض إن الرسالة التي أراد توجيهها لم تكن لكومان على الإطلاق وتابع بلهجة غامضة في تصريحات نشرتها صحيفة ماركا الرياضية الإسبانية كان ذلك للأشخاص الذين يعرفون أن لدي نفس الرقم وأنني ما زلت أستخدم نفس الهاتف إن كنت تريد أن تعرف كنت أمزح مع أطفالي أنني سأفعل ذلك كما علق سواريز على عدم احتفاله بإحراز هدف في شباك فريقه السابق موضحا كنت أعرف بالفعل أنني إذا سجلت فسأعتذر وأضاف لم أحتفل احتراما وتعاطفا لكوني من مشجعي برشلونة ولمسيرتي في برشلونة وللفترة التي يمر بها زملائي السابقون وهي صعبة ولجماهير برشلونة احترمت ذلك</th>\n",
       "      <td>0.007</td>\n",
       "      <td>0.012</td>\n",
       "      <td>0.002</td>\n",
       "      <td>0.061</td>\n",
       "    </tr>\n",
       "    <tr>\n",
       "      <th>ماذا يفعل القرنفل على الريق خبرني القرنفل على الريق هي ذات الفوائد التي يجنيها الإنسان من خلال استخدامه للقرنفل في أي وقت وتتمثل فوائد القرنفل على الريق المحتملة في ما يأتي يخفض من خطر الإلتهابات فيساعد استخدام القرنفل في خفض خطر الإصابة بالالتهابات كما يتمتع بخصائص مضادة للأكسدة فإن القرنفل يحتوي على العديد من المواد والتي لها دور كمضادات للأكسدة وهذا يعني أنها تعمل على التقليل من مشكلة الإجهاد التأكسدي الناتجة عن تراكم الجذور الحرة في الجسم ويقلل من مشكلة تقرحات المعدة كما يزيد من عمل وكفاءة الكبد حيث تعمل المواد الموجودة فيه وخاصة مادة اليوجينول على التقليل من علامات الإصابة بالكبد الدهني وتشمع الكبد كما أنها تساعد في تحسين وظائف الكبد بشكل عام إضافة إلى أنه يحسن صحة الفم والأسنان ويقوي صحة الجهاز الهضمي إلى جانب دور القرنفل في التقليل من مشكلة تقرحات المعدة فإنه يعمل على تقوية صحة الجهاز الهضمي بشكل عام</th>\n",
       "      <td>0.004</td>\n",
       "      <td>0.015</td>\n",
       "      <td>0.001</td>\n",
       "      <td>0.047</td>\n",
       "    </tr>\n",
       "    <tr>\n",
       "      <th>لن تتوقعها حيلة ذكية تجعل ثمرة الأفوكادو تنضج خلال وقت قياسي متابعة علي معلا يحب الجميع تناول فاكهة الأفوكادو ذات المذاق الفريد والغنية بالمكونات الأساسية التي يحتاج إليها الجسم وعادة ما تتوفر في المتاجر غير ناضجة ولهذا من المفيد جدا تعلم طريقة تساعد على إنضاجها بسرعة في المنزل ومن أجل هذا يمكن اللجوء إلى حيلة الموز وفي هذه الحالة يجب وضع الحبة تحت بضع حبات من الموز لمدة   أيام فهذه الثمار تصدر غاز الإيثيلين الذي يعمل على إنضاج الفواكه ويمكن ايضا تغليف حبات الأفوكادو بالورق لمدة أيام قليلة ومن الحيل المفيدة في هذا السياق أيضا أن يتم استخدام أعواد تنظيف الأسنان فهي عملية جدا ومفيدة ولهذا يجب غرز عود في ثمرة الأفوكادو من كل جانب وتركها حتى اليوم التالي حيث سيلاحظ أنها بدأت تنضج فعلا ويشار إلى أنه يمكن تناولها طازجة من دون المبالغة في ذلك كما يمكن إضافة شرحاتها إلى مختلف أنواع السلطات ومن المفيد الاعتماد عليها لتحضير طبق تحلية صحي وسريع وفي هذه الحالة ننصحك مثلا بإضافة القليل من العسل إلى قطع الأفوكادو</th>\n",
       "      <td>0.005</td>\n",
       "      <td>0.016</td>\n",
       "      <td>0.002</td>\n",
       "      <td>0.040</td>\n",
       "    </tr>\n",
       "    <tr>\n",
       "      <th>السعودية تستضيف اليابان ضمن   مباريات فى تصفيات آسيا المؤهلة لكأس العالم تقام اليوم الخميس   مواجهات ضمن مباريات الجولة الثالثة من تصفيات آسيا المؤهلة لكأس العالم قطر   حيث يسضيف منتخب السعودية نظيره اليابانى فى قمة لقاءت الجولة الاسيوية ويحتضن ستاد مدينة الملك عبد الله الرياضية بجدة مباراة المنتخب السعودي ضد اليابان في الجولة الثالثة من الدور الثالث من تصفيات كأس العالم   آسيا فى تمام الساعة السابعة مساء بتوقبت القاهرة ويحتل منتخب السعودية المركز الثاني في جدول ترتيب المجموعة برصيد   نقاط وبفارق الأهداف فقط عن أستراليا صاحب الصدارة بعدما فاز الأخضر بمباراتيه السابقتين على فيتنام وعمان على التوالي فيما تعرض المنتخب الياباني لخسارة مفاجئة في المباراة الأولى من المنتخب العماني لكنه فاز على الصين في المباراة الثانية ليحتل المركز الرابع برصيد   نقاط ويطمح الأخضر السعودي في الفوز بنتيجة المباراة لحصد احد المراكز المؤهلة لكاس العالم وتكرار انجاز التأهل الي مونديال روسيا   بعد ان تفوق علي اليابان بهدف فهد المولد فيما يدخل منتخب اليابان المواجهة وليس لديه أي خيار غير الفوز في المباراة لمواصلة المنافسة علي الصدارة والتأهل الي مونديال قطر ومن المتوقع أن يبدأ منتخب السعودية المباراة بتشكيل مكون من حراسة المرمي محمد العويس الدفاع سلطان الغنام عبد الاله العمري عبد الله مادو ياسر الشهراني الوسط عبد الاله المالكي محمد كنو سلمان الفرج الهجوم فهد المولد سالم الدوسري صالح الشهري وتبدأ مواجهات تصفيات اسيا اليوم الخميس عندما يستضيف منتخب كوريا الجنوبية نظيره السوري على ملعب ستاد أنسان وا فى تمام الساعة الواحدة ظهرا بينما يحل منتخب لبنان ضيفا على ششقيقه العراقى على ملعب ستاد خليفة الدولي فى تمام الساعة   مساء فيما يحتضن ستاد الشارقة مواجهة منتخب الصين ضد فيتنام فى تمام الساعة   مساء وتستضيف الإمارات منتخب إيران على ستاد زعبيل فى تمام الساعة   مساء اليوم وتختتم مواجهات الجولة الثالثة الخميس عندما يستضيف منتخب أستراليا نظيره عمان على ستاد خليفة الدولي فى تمام الساعة   مساء ويشارك تصفيات اسيا لكأس العالم     منتخبا يتم تقسيمهم على مجموعتين في كل مجموعة   فرق وتلعب المباريات أيضا ذهابا وإيابا ويتأهل متصدر ووصيف كل مجموعة إلى كأس العالم مباشرة فيما يتحول صاحبي المركز الثالث إلى الدور الرابع بينما يتواجه الثالثان في الدور الرابع من تصفيات آسيا المؤهلة لكأس العالم على مباراتين ذهاب وإياب والفائز يشارك في الملحق النهائي للمونديال الذي يشارك فيه أيضا منتخب من أمريكا الشمالية وآخر من أمريكا الجنوبية ومنتخب من قارة أوقيانوسيا</th>\n",
       "      <td>0.021</td>\n",
       "      <td>0.034</td>\n",
       "      <td>0.007</td>\n",
       "      <td>0.167</td>\n",
       "    </tr>\n",
       "    <tr>\n",
       "      <th>انتهاء التصويت صناديق الاقتراع العام تغلق في عموم العراق أعلنت المفوضية العليا للانتخابات في العراق عن إغلاق صناديق الاقتراع العام في الانتخابات البرلمانية وسط حديث عن نسب مشاركة منخفضة من جهته كتب رئيس الوزراء العراقي على تويتر أنه أتممنا بحمد الله واجبنا ووعدنا بإجراء انتخابات نزيهة آمنة ووفرنا الإمكانات لإنجاحها أشكر شعبنا الكريم أشكر كل الناخبين والمرشحين والقوى السياسية والمراقبين والعاملين في مفوضية الانتخابات والقوى الأمنية البطلة التي وفرت الأمن والأمم المتحدة والمرجعية الدينية الرشيدةأتممنا بحمد الله واجبنا ووعدنا بإجراء انتخابات نزيهة آمنة ووفرنا الإمكانات لإنجاحها أشكر شعبنا الكريم أشكر كل الناخبين والمرشحين والقوى السياسية والمراقبين والعاملين في مفوضية الانتخابات والقوى الأمنية البطلة التي وفرت الامن والامم المتحدة والمرجعية الدينية الرشيدةودعا الكاظمي في تغريدة سابقة المواطنين ممن لم يشاركوا في العملية إلى سرعة التوجه والقيام باختيار نواب يمثلونهم في مجلس النواب المقبلوكتب أدعو الناخبين غير المصوتين حتى الآن إلى سرعة التوجه نحو المراكز الانتخابية لاختيار ممثليهم صوتوا من أجل العراق ومن أجل مستقبل أجيالناشعبنا الكريم تجاوزنا منتصف اليوم الانتخابي وجرت العملية الانتخابية بانسيابية أشكر كل من شارك في الاقتراع وأدعو الناخبين غير المصوتين حتى الآن إلى سرعة التوجه نحو المراكز الانتخابية لاختيار ممثليهم صوتوا من أجل العراق ومن أجل مستقبل أجيالناوافتتحت مراكز الاقتراع أبوابها في جميع محافظات العراق وبحضور مراقبين محليين ودوليين للإشراف على العملية الديمقراطية وسط إجراءات أمنية مشددة شملت إغلاق المطارات وحدود المحافظاتالمصدر</th>\n",
       "      <td>0.011</td>\n",
       "      <td>0.012</td>\n",
       "      <td>0.004</td>\n",
       "      <td>0.026</td>\n",
       "    </tr>\n",
       "  </tbody>\n",
       "</table>\n",
       "</div>"
      ],
      "text/plain": [
       "                                                    component_1  component_2  \\\n",
       "Text                                                                           \n",
       "سواريز يحسم الجدل الذي تسبب به احتفاله بالهدف م...        0.007        0.012   \n",
       "ماذا يفعل القرنفل على الريق خبرني القرنفل على ا...        0.004        0.015   \n",
       "لن تتوقعها حيلة ذكية تجعل ثمرة الأفوكادو تنضج خ...        0.005        0.016   \n",
       "السعودية تستضيف اليابان ضمن   مباريات فى تصفيات...        0.021        0.034   \n",
       "انتهاء التصويت صناديق الاقتراع العام تغلق في عم...        0.011        0.012   \n",
       "\n",
       "                                                    component_3  component_4  \n",
       "Text                                                                          \n",
       "سواريز يحسم الجدل الذي تسبب به احتفاله بالهدف م...        0.002        0.061  \n",
       "ماذا يفعل القرنفل على الريق خبرني القرنفل على ا...        0.001        0.047  \n",
       "لن تتوقعها حيلة ذكية تجعل ثمرة الأفوكادو تنضج خ...        0.002        0.040  \n",
       "السعودية تستضيف اليابان ضمن   مباريات فى تصفيات...        0.007        0.167  \n",
       "انتهاء التصويت صناديق الاقتراع العام تغلق في عم...        0.004        0.026  "
      ]
     },
     "execution_count": 22,
     "metadata": {},
     "output_type": "execute_result"
    }
   ],
   "source": [
    "Vt = pd.DataFrame(doc_topic.round(3),\n",
    "             index = documents,\n",
    "             columns = [\"component_1\",\"component_2\",\"component_3\",\"component_4\" ])\n",
    "\n",
    "Vt.head(5)"
   ]
  },
  {
   "cell_type": "markdown",
   "id": "b016ae07",
   "metadata": {},
   "source": [
    "### Result \n",
    "> From the list of words and the dataframe above for each component we could notice that there is no sense on the results it gave us for health, sports and politics on the same component"
   ]
  },
  {
   "cell_type": "markdown",
   "id": "5cf1f8d6",
   "metadata": {},
   "source": [
    "# NMF"
   ]
  },
  {
   "cell_type": "code",
   "execution_count": 23,
   "id": "1ef98cb1",
   "metadata": {},
   "outputs": [
    {
     "name": "stderr",
     "output_type": "stream",
     "text": [
      "D:\\Program files\\anaconda3\\lib\\site-packages\\sklearn\\decomposition\\_nmf.py:312: FutureWarning: The 'init' value, when 'init=None' and n_components is less than n_samples and n_features, will be changed from 'nndsvd' to 'nndsvda' in 1.1 (renaming of 0.26).\n",
      "  warnings.warn((\"The 'init' value, when 'init=None' and \"\n"
     ]
    }
   ],
   "source": [
    "nmf_model = NMF(4)\n",
    "doc_topic1 = nmf_model.fit_transform(doc_word)"
   ]
  },
  {
   "cell_type": "code",
   "execution_count": 24,
   "id": "1ba1dd9f",
   "metadata": {
    "scrolled": true
   },
   "outputs": [
    {
     "name": "stdout",
     "output_type": "stream",
     "text": [
      "\n",
      "Topic  0\n",
      "الذهب, عيار, سعر, الذهب عيار, جرام الذهب, جرام, أسعار, سعر جرام, أسعار الذهب, تعاملات\n",
      "\n",
      "Topic  1\n",
      "حالة, كورونا, جديدة, إصابة, الصحة, تسجيل, وفاة, إجمالي, إصابة جديدة, عدد\n",
      "\n",
      "Topic  2\n",
      "سعر, للشراء, للبيع, للشراء للبيع, المركزي, الدولار, متوسط سعر, الدينار, بنك, متوسط\n",
      "\n",
      "Topic  3\n",
      "فى, محمد, صلاح, الدوري, منتخب, خلال, مباراة, المباراة, العالم, الفريق\n"
     ]
    }
   ],
   "source": [
    "display_topics(nmf_model, vectorizer.get_feature_names(), 10)"
   ]
  },
  {
   "cell_type": "code",
   "execution_count": 26,
   "id": "acd43a44",
   "metadata": {},
   "outputs": [
    {
     "data": {
      "text/html": [
       "<div>\n",
       "<style scoped>\n",
       "    .dataframe tbody tr th:only-of-type {\n",
       "        vertical-align: middle;\n",
       "    }\n",
       "\n",
       "    .dataframe tbody tr th {\n",
       "        vertical-align: top;\n",
       "    }\n",
       "\n",
       "    .dataframe thead th {\n",
       "        text-align: right;\n",
       "    }\n",
       "</style>\n",
       "<table border=\"1\" class=\"dataframe\">\n",
       "  <thead>\n",
       "    <tr style=\"text-align: right;\">\n",
       "      <th></th>\n",
       "      <th>component_1</th>\n",
       "      <th>component_2</th>\n",
       "      <th>component_3</th>\n",
       "      <th>component_4</th>\n",
       "    </tr>\n",
       "    <tr>\n",
       "      <th>Text</th>\n",
       "      <th></th>\n",
       "      <th></th>\n",
       "      <th></th>\n",
       "      <th></th>\n",
       "    </tr>\n",
       "  </thead>\n",
       "  <tbody>\n",
       "    <tr>\n",
       "      <th>سواريز يحسم الجدل الذي تسبب به احتفاله بالهدف متابعة مظفر إسماعيل نفى لويس سواريز تعمده إرسال رسالة إلى رونالد كومان خلال لقاء أتلتيكو مدريد وضيفه برشلونة في الدوري الإسباني السبت وبعدما سجل سواريز هدف أتلتيكو الثاني أشار المهاجم المخضرم بيده وكأنه يمسك هاتفا ويتحدث إلى شخص ما وهو ما ربطه المتابعون بمكالمة كومان إلى سواريز في صيف   التي أبلغه خلالها بأنه خرج من خططه وأن عليه الرحيل عن برشلونة والبحث عن فريق آخر وقال سواريز بعد اللقاء الذي ابتسم لأصحاب الأرض إن الرسالة التي أراد توجيهها لم تكن لكومان على الإطلاق وتابع بلهجة غامضة في تصريحات نشرتها صحيفة ماركا الرياضية الإسبانية كان ذلك للأشخاص الذين يعرفون أن لدي نفس الرقم وأنني ما زلت أستخدم نفس الهاتف إن كنت تريد أن تعرف كنت أمزح مع أطفالي أنني سأفعل ذلك كما علق سواريز على عدم احتفاله بإحراز هدف في شباك فريقه السابق موضحا كنت أعرف بالفعل أنني إذا سجلت فسأعتذر وأضاف لم أحتفل احتراما وتعاطفا لكوني من مشجعي برشلونة ولمسيرتي في برشلونة وللفترة التي يمر بها زملائي السابقون وهي صعبة ولجماهير برشلونة احترمت ذلك</th>\n",
       "      <td>0.00000</td>\n",
       "      <td>0.00000</td>\n",
       "      <td>0.00000</td>\n",
       "      <td>0.02432</td>\n",
       "    </tr>\n",
       "    <tr>\n",
       "      <th>ماذا يفعل القرنفل على الريق خبرني القرنفل على الريق هي ذات الفوائد التي يجنيها الإنسان من خلال استخدامه للقرنفل في أي وقت وتتمثل فوائد القرنفل على الريق المحتملة في ما يأتي يخفض من خطر الإلتهابات فيساعد استخدام القرنفل في خفض خطر الإصابة بالالتهابات كما يتمتع بخصائص مضادة للأكسدة فإن القرنفل يحتوي على العديد من المواد والتي لها دور كمضادات للأكسدة وهذا يعني أنها تعمل على التقليل من مشكلة الإجهاد التأكسدي الناتجة عن تراكم الجذور الحرة في الجسم ويقلل من مشكلة تقرحات المعدة كما يزيد من عمل وكفاءة الكبد حيث تعمل المواد الموجودة فيه وخاصة مادة اليوجينول على التقليل من علامات الإصابة بالكبد الدهني وتشمع الكبد كما أنها تساعد في تحسين وظائف الكبد بشكل عام إضافة إلى أنه يحسن صحة الفم والأسنان ويقوي صحة الجهاز الهضمي إلى جانب دور القرنفل في التقليل من مشكلة تقرحات المعدة فإنه يعمل على تقوية صحة الجهاز الهضمي بشكل عام</th>\n",
       "      <td>0.00000</td>\n",
       "      <td>0.00000</td>\n",
       "      <td>0.00000</td>\n",
       "      <td>0.01831</td>\n",
       "    </tr>\n",
       "    <tr>\n",
       "      <th>لن تتوقعها حيلة ذكية تجعل ثمرة الأفوكادو تنضج خلال وقت قياسي متابعة علي معلا يحب الجميع تناول فاكهة الأفوكادو ذات المذاق الفريد والغنية بالمكونات الأساسية التي يحتاج إليها الجسم وعادة ما تتوفر في المتاجر غير ناضجة ولهذا من المفيد جدا تعلم طريقة تساعد على إنضاجها بسرعة في المنزل ومن أجل هذا يمكن اللجوء إلى حيلة الموز وفي هذه الحالة يجب وضع الحبة تحت بضع حبات من الموز لمدة   أيام فهذه الثمار تصدر غاز الإيثيلين الذي يعمل على إنضاج الفواكه ويمكن ايضا تغليف حبات الأفوكادو بالورق لمدة أيام قليلة ومن الحيل المفيدة في هذا السياق أيضا أن يتم استخدام أعواد تنظيف الأسنان فهي عملية جدا ومفيدة ولهذا يجب غرز عود في ثمرة الأفوكادو من كل جانب وتركها حتى اليوم التالي حيث سيلاحظ أنها بدأت تنضج فعلا ويشار إلى أنه يمكن تناولها طازجة من دون المبالغة في ذلك كما يمكن إضافة شرحاتها إلى مختلف أنواع السلطات ومن المفيد الاعتماد عليها لتحضير طبق تحلية صحي وسريع وفي هذه الحالة ننصحك مثلا بإضافة القليل من العسل إلى قطع الأفوكادو</th>\n",
       "      <td>0.00000</td>\n",
       "      <td>0.00093</td>\n",
       "      <td>0.00000</td>\n",
       "      <td>0.01590</td>\n",
       "    </tr>\n",
       "    <tr>\n",
       "      <th>السعودية تستضيف اليابان ضمن   مباريات فى تصفيات آسيا المؤهلة لكأس العالم تقام اليوم الخميس   مواجهات ضمن مباريات الجولة الثالثة من تصفيات آسيا المؤهلة لكأس العالم قطر   حيث يسضيف منتخب السعودية نظيره اليابانى فى قمة لقاءت الجولة الاسيوية ويحتضن ستاد مدينة الملك عبد الله الرياضية بجدة مباراة المنتخب السعودي ضد اليابان في الجولة الثالثة من الدور الثالث من تصفيات كأس العالم   آسيا فى تمام الساعة السابعة مساء بتوقبت القاهرة ويحتل منتخب السعودية المركز الثاني في جدول ترتيب المجموعة برصيد   نقاط وبفارق الأهداف فقط عن أستراليا صاحب الصدارة بعدما فاز الأخضر بمباراتيه السابقتين على فيتنام وعمان على التوالي فيما تعرض المنتخب الياباني لخسارة مفاجئة في المباراة الأولى من المنتخب العماني لكنه فاز على الصين في المباراة الثانية ليحتل المركز الرابع برصيد   نقاط ويطمح الأخضر السعودي في الفوز بنتيجة المباراة لحصد احد المراكز المؤهلة لكاس العالم وتكرار انجاز التأهل الي مونديال روسيا   بعد ان تفوق علي اليابان بهدف فهد المولد فيما يدخل منتخب اليابان المواجهة وليس لديه أي خيار غير الفوز في المباراة لمواصلة المنافسة علي الصدارة والتأهل الي مونديال قطر ومن المتوقع أن يبدأ منتخب السعودية المباراة بتشكيل مكون من حراسة المرمي محمد العويس الدفاع سلطان الغنام عبد الاله العمري عبد الله مادو ياسر الشهراني الوسط عبد الاله المالكي محمد كنو سلمان الفرج الهجوم فهد المولد سالم الدوسري صالح الشهري وتبدأ مواجهات تصفيات اسيا اليوم الخميس عندما يستضيف منتخب كوريا الجنوبية نظيره السوري على ملعب ستاد أنسان وا فى تمام الساعة الواحدة ظهرا بينما يحل منتخب لبنان ضيفا على ششقيقه العراقى على ملعب ستاد خليفة الدولي فى تمام الساعة   مساء فيما يحتضن ستاد الشارقة مواجهة منتخب الصين ضد فيتنام فى تمام الساعة   مساء وتستضيف الإمارات منتخب إيران على ستاد زعبيل فى تمام الساعة   مساء اليوم وتختتم مواجهات الجولة الثالثة الخميس عندما يستضيف منتخب أستراليا نظيره عمان على ستاد خليفة الدولي فى تمام الساعة   مساء ويشارك تصفيات اسيا لكأس العالم     منتخبا يتم تقسيمهم على مجموعتين في كل مجموعة   فرق وتلعب المباريات أيضا ذهابا وإيابا ويتأهل متصدر ووصيف كل مجموعة إلى كأس العالم مباشرة فيما يتحول صاحبي المركز الثالث إلى الدور الرابع بينما يتواجه الثالثان في الدور الرابع من تصفيات آسيا المؤهلة لكأس العالم على مباراتين ذهاب وإياب والفائز يشارك في الملحق النهائي للمونديال الذي يشارك فيه أيضا منتخب من أمريكا الشمالية وآخر من أمريكا الجنوبية ومنتخب من قارة أوقيانوسيا</th>\n",
       "      <td>0.00024</td>\n",
       "      <td>0.00000</td>\n",
       "      <td>0.00000</td>\n",
       "      <td>0.06784</td>\n",
       "    </tr>\n",
       "    <tr>\n",
       "      <th>انتهاء التصويت صناديق الاقتراع العام تغلق في عموم العراق أعلنت المفوضية العليا للانتخابات في العراق عن إغلاق صناديق الاقتراع العام في الانتخابات البرلمانية وسط حديث عن نسب مشاركة منخفضة من جهته كتب رئيس الوزراء العراقي على تويتر أنه أتممنا بحمد الله واجبنا ووعدنا بإجراء انتخابات نزيهة آمنة ووفرنا الإمكانات لإنجاحها أشكر شعبنا الكريم أشكر كل الناخبين والمرشحين والقوى السياسية والمراقبين والعاملين في مفوضية الانتخابات والقوى الأمنية البطلة التي وفرت الأمن والأمم المتحدة والمرجعية الدينية الرشيدةأتممنا بحمد الله واجبنا ووعدنا بإجراء انتخابات نزيهة آمنة ووفرنا الإمكانات لإنجاحها أشكر شعبنا الكريم أشكر كل الناخبين والمرشحين والقوى السياسية والمراقبين والعاملين في مفوضية الانتخابات والقوى الأمنية البطلة التي وفرت الامن والامم المتحدة والمرجعية الدينية الرشيدةودعا الكاظمي في تغريدة سابقة المواطنين ممن لم يشاركوا في العملية إلى سرعة التوجه والقيام باختيار نواب يمثلونهم في مجلس النواب المقبلوكتب أدعو الناخبين غير المصوتين حتى الآن إلى سرعة التوجه نحو المراكز الانتخابية لاختيار ممثليهم صوتوا من أجل العراق ومن أجل مستقبل أجيالناشعبنا الكريم تجاوزنا منتصف اليوم الانتخابي وجرت العملية الانتخابية بانسيابية أشكر كل من شارك في الاقتراع وأدعو الناخبين غير المصوتين حتى الآن إلى سرعة التوجه نحو المراكز الانتخابية لاختيار ممثليهم صوتوا من أجل العراق ومن أجل مستقبل أجيالناوافتتحت مراكز الاقتراع أبوابها في جميع محافظات العراق وبحضور مراقبين محليين ودوليين للإشراف على العملية الديمقراطية وسط إجراءات أمنية مشددة شملت إغلاق المطارات وحدود المحافظاتالمصدر</th>\n",
       "      <td>0.00122</td>\n",
       "      <td>0.00089</td>\n",
       "      <td>0.00156</td>\n",
       "      <td>0.01102</td>\n",
       "    </tr>\n",
       "  </tbody>\n",
       "</table>\n",
       "</div>"
      ],
      "text/plain": [
       "                                                    component_1  component_2  \\\n",
       "Text                                                                           \n",
       "سواريز يحسم الجدل الذي تسبب به احتفاله بالهدف م...      0.00000      0.00000   \n",
       "ماذا يفعل القرنفل على الريق خبرني القرنفل على ا...      0.00000      0.00000   \n",
       "لن تتوقعها حيلة ذكية تجعل ثمرة الأفوكادو تنضج خ...      0.00000      0.00093   \n",
       "السعودية تستضيف اليابان ضمن   مباريات فى تصفيات...      0.00024      0.00000   \n",
       "انتهاء التصويت صناديق الاقتراع العام تغلق في عم...      0.00122      0.00089   \n",
       "\n",
       "                                                    component_3  component_4  \n",
       "Text                                                                          \n",
       "سواريز يحسم الجدل الذي تسبب به احتفاله بالهدف م...      0.00000      0.02432  \n",
       "ماذا يفعل القرنفل على الريق خبرني القرنفل على ا...      0.00000      0.01831  \n",
       "لن تتوقعها حيلة ذكية تجعل ثمرة الأفوكادو تنضج خ...      0.00000      0.01590  \n",
       "السعودية تستضيف اليابان ضمن   مباريات فى تصفيات...      0.00000      0.06784  \n",
       "انتهاء التصويت صناديق الاقتراع العام تغلق في عم...      0.00156      0.01102  "
      ]
     },
     "execution_count": 26,
     "metadata": {},
     "output_type": "execute_result"
    }
   ],
   "source": [
    "H = pd.DataFrame(doc_topic1.round(5),\n",
    "             index = documents,\n",
    "             columns = [\"component_1\",\"component_2\",\"component_3\",\"component_4\" ])\n",
    "H.head(5)"
   ]
  },
  {
   "cell_type": "markdown",
   "id": "dd134df3",
   "metadata": {},
   "source": [
    "### Result \n",
    "> From the list of words and the dataframe above for each component we could notice that there is no sense on the results it gave us for health, sports and politics on the same component"
   ]
  },
  {
   "cell_type": "markdown",
   "id": "cac182d0",
   "metadata": {},
   "source": [
    "## Conclusion \n",
    "> At the beginning we clean our data and after that We tried three diffrent approches to topic modeling but the only  model with good results was Kmeans so we will choose this model. From this project we were hoping to have good results with arabic data since there are only a few resources for arabic NLP."
   ]
  }
 ],
 "metadata": {
  "kernelspec": {
   "display_name": "Python 3",
   "language": "python",
   "name": "python3"
  },
  "language_info": {
   "codemirror_mode": {
    "name": "ipython",
    "version": 3
   },
   "file_extension": ".py",
   "mimetype": "text/x-python",
   "name": "python",
   "nbconvert_exporter": "python",
   "pygments_lexer": "ipython3",
   "version": "3.8.8"
  }
 },
 "nbformat": 4,
 "nbformat_minor": 5
}
